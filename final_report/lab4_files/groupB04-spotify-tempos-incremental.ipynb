{
 "cells": [
  {
   "cell_type": "code",
   "execution_count": 10,
   "metadata": {},
   "outputs": [],
   "source": [
    "from pyspark.sql import SparkSession \n",
    "\n",
    "# Initialising Spark Session\n",
    "spark = SparkSession \\\n",
    "    .builder \\\n",
    "    .appName(\"Python Spark - Average Tempo of Spotify Songs for each Decade\") \\\n",
    "    .getOrCreate()"
   ]
  },
  {
   "cell_type": "code",
   "execution_count": 9,
   "metadata": {},
   "outputs": [],
   "source": [
    "# Used for stopping spark session\n",
    "#spark.stop()"
   ]
  },
  {
   "cell_type": "code",
   "execution_count": 12,
   "metadata": {},
   "outputs": [],
   "source": [
    "# Constants defining streaming parammeters\n",
    "TOPIC = 'groupB04.spotifytempos'\n",
    "STARTING_OFFSETS = \"latest\""
   ]
  },
  {
   "cell_type": "code",
   "execution_count": 13,
   "metadata": {},
   "outputs": [],
   "source": [
    "# Starting spark data frame\n",
    "df = spark \\\n",
    "  .readStream \\\n",
    "  .format(\"kafka\") \\\n",
    "  .option(\"kafka.bootstrap.servers\", \"node1:9092\") \\\n",
    "  .option(\"subscribe\", TOPIC) \\\n",
    "  .option(\"startingOffsets\",STARTING_OFFSETS) \\\n",
    "  .option(\"failOnDataLoss\", \"false\")\\\n",
    "  .option(\"checkpointLocation\", \"/tmp/b6\") \\\n",
    "  .load() "
   ]
  },
  {
   "cell_type": "code",
   "execution_count": 14,
   "metadata": {},
   "outputs": [
    {
     "name": "stdout",
     "output_type": "stream",
     "text": [
      "root\n",
      " |-- key: binary (nullable = true)\n",
      " |-- value: binary (nullable = true)\n",
      " |-- topic: string (nullable = true)\n",
      " |-- partition: integer (nullable = true)\n",
      " |-- offset: long (nullable = true)\n",
      " |-- timestamp: timestamp (nullable = true)\n",
      " |-- timestampType: integer (nullable = true)\n",
      "\n"
     ]
    }
   ],
   "source": [
    "# Checking if everything works by printing the schema of the data\n",
    "df.printSchema()"
   ]
  },
  {
   "cell_type": "code",
   "execution_count": 15,
   "metadata": {},
   "outputs": [],
   "source": [
    "from pyspark.sql.functions import get_json_object, concat, lit\n",
    "from pyspark.sql.types import *\n",
    "from pyspark.sql import functions as f\n",
    "\n",
    "# Since our data is in CSV format, we get each variable by spliting our message by ','\n",
    "split_col = f.split(df['value'], ',')\n",
    "\n",
    "# Constructing the decade string for each song which will be used later in aggregation\n",
    "decade = concat(split_col.getItem(1)[0:3], lit('0s'))\n",
    "\n",
    "# Adding new columns to our data frame\n",
    "df = df \\\n",
    "         .withColumn('UUID', split_col.getItem(0)) \\\n",
    "         .withColumn('year', split_col.getItem(1)) \\\n",
    "         .withColumn('tempo', split_col.getItem(2)) \\\n",
    "         .withColumn('decade', decade) \\\n",
    "\n",
    "# Converting our dataframe to values in correct types\n",
    "converted = df \\\n",
    "    .selectExpr(\"UUID\", \"year\", \"tempo\", \"offset\", \"decade\")\\\n",
    "    .select([\\\n",
    "            df[\"UUID\"].cast(StringType()), \\\n",
    "            df[\"year\"].cast(IntegerType()), \\\n",
    "            df[\"tempo\"].cast(DoubleType()), \\\n",
    "            df[\"decade\"].cast(StringType()).alias(\"Decade\")\\\n",
    "            ])"
   ]
  },
  {
   "cell_type": "code",
   "execution_count": 16,
   "metadata": {},
   "outputs": [],
   "source": [
    "# Doing the calculations - grouping by the decade and calculating the tempo average\n",
    "groupdf = converted \\\n",
    "    .select(\"UUID\", \"year\", \"Decade\", \"tempo\", \"offset\") \\\n",
    "    .groupby(\"Decade\") \\\n",
    "    .agg( \\\n",
    "         # Calculating average tempo of decade rounded to 2 decimal places\n",
    "         f.round(f.avg(\"tempo\"), 2).alias(\"Average Tempo\"), \\\n",
    "         # Adding to df some additional data about number of songs used for calculation\n",
    "         f.approxCountDistinct(\"UUID\").alias(\"Songs Count\"), \\\n",
    "         # Adding to df some additional data about number of years from given decade used for calculation\n",
    "         f.approxCountDistinct(\"year\").alias(\"Years Count\")) \\\n",
    "    .sort(\"Decade\")"
   ]
  },
  {
   "cell_type": "code",
   "execution_count": 17,
   "metadata": {},
   "outputs": [],
   "source": [
    "%matplotlib inline\n",
    "from pyspark.sql import SparkSession\n",
    "from IPython import display\n",
    "import matplotlib.pyplot as plt\n",
    "\n",
    "# Defining the function that will be used for representing our data in real time (incrementaly)\n",
    "def show_plot_and_df(epoch_frame, epoch_id):\n",
    "    if (epoch_frame.count()==0):\n",
    "        print(\"Waiting for new messages...\")\n",
    "        return\n",
    "    # Printing plot with approprate labels\n",
    "    epoch_frame.toPandas().plot(kind='bar', x='Decade', y='Average Tempo')\n",
    "    display.clear_output(wait=True)\n",
    "    plt.title(\"Average Tempo of Spotify Songs across Decades\")\n",
    "    plt.ylabel(\"Tempo in BPM\")\n",
    "    plt.xlabel(\"Decade\")\n",
    "    plt.gca().set_ylim([70,160])\n",
    "    plt.show()\n",
    "    # Printing dataframe\n",
    "    epoch_frame.show()\n",
    "    # Printing current iteration\n",
    "    print(\"Current Epoch: \" + str(epoch_id))\n",
    "    \n"
   ]
  },
  {
   "cell_type": "code",
   "execution_count": 18,
   "metadata": {},
   "outputs": [
    {
     "data": {
      "image/png": "[encoded data removed]",
      "text/plain": [
       "<Figure size 432x288 with 1 Axes>"
      ]
     },
     "metadata": {
      "needs_background": "light"
     },
     "output_type": "display_data"
    },
    {
     "name": "stdout",
     "output_type": "stream",
     "text": [
      "+------+-------------+-----------+-----------+--------------+\n",
      "|Decade|Average Tempo|Songs Count|Years Count|Current Offset|\n",
      "+------+-------------+-----------+-----------+--------------+\n",
      "| 1920s|       115.97|          2|          1|           176|\n",
      "| 1930s|       118.83|          5|          3|           207|\n",
      "| 1940s|       106.79|         14|          7|           215|\n",
      "| 1950s|        97.66|         19|         10|           313|\n",
      "| 1960s|       114.39|         18|         10|           314|\n",
      "| 1970s|       117.26|         20|         10|           288|\n",
      "| 1980s|       117.77|         19|         10|           289|\n",
      "| 1990s|       114.87|         18|         10|           315|\n",
      "| 2000s|        133.0|         19|         10|           298|\n",
      "| 2010s|        114.3|         11|         10|           259|\n",
      "| 2020s|        90.05|          1|          1|            83|\n",
      "+------+-------------+-----------+-----------+--------------+\n",
      "\n",
      "Current Epoch: 6\n"
     ]
    }
   ],
   "source": [
    "# Defining some parammeters\n",
    "processingTime = \"5 Seconds\"\n",
    "outputMode = \"complete\"\n",
    "\n",
    "# Finally, showing the data which updates every processingTime seconds\n",
    "df = groupdf \\\n",
    "    .writeStream \\\n",
    "    .outputMode(outputMode) \\\n",
    "    .foreachBatch(show_plot_and_df) \\\n",
    "    .trigger(processingTime=processingTime) \\\n",
    "    .start() \\\n",
    "    .awaitTermination()"
   ]
  },
  {
   "cell_type": "code",
   "execution_count": 19,
   "metadata": {},
   "outputs": [],
   "source": [
    "# After finish we can stop spark session\n",
    "spark.stop()"
   ]
  },
  {
   "cell_type": "code",
   "execution_count": null,
   "metadata": {},
   "outputs": [],
   "source": []
  }
 ],
 "metadata": {
  "kernelspec": {
   "display_name": "Python 3",
   "language": "python",
   "name": "python3"
  },
  "language_info": {
   "codemirror_mode": {
    "name": "ipython",
    "version": 3
   },
   "file_extension": ".py",
   "mimetype": "text/x-python",
   "name": "python",
   "nbconvert_exporter": "python",
   "pygments_lexer": "ipython3",
   "version": "3.8.6"
  }
 },
 "nbformat": 4,
 "nbformat_minor": 4
}

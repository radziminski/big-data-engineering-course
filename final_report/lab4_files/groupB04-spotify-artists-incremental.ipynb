{
 "cells": [
  {
   "cell_type": "code",
   "execution_count": 1,
   "metadata": {},
   "outputs": [],
   "source": [
    "from pyspark.sql import SparkSession \n",
    "\n",
    "# Initialising Spark Session\n",
    "spark = SparkSession \\\n",
    "    .builder \\\n",
    "    .appName(\"Python Spark - Number of Spotify Songs for each Main Artist\") \\\n",
    "    .getOrCreate()"
   ]
  },
  {
   "cell_type": "code",
   "execution_count": 2,
   "metadata": {},
   "outputs": [],
   "source": [
    "# Used for stopping spark session\n",
    "#spark.stop()"
   ]
  },
  {
   "cell_type": "code",
   "execution_count": 3,
   "metadata": {},
   "outputs": [],
   "source": [
    "# Constants defining streaming parammeters\n",
    "TOPIC = 'groupB04.spotifyartists'\n",
    "STARTING_OFFSETS = \"latest\""
   ]
  },
  {
   "cell_type": "code",
   "execution_count": 4,
   "metadata": {},
   "outputs": [],
   "source": [
    "# Starting spark data frame\n",
    "df = spark \\\n",
    "  .readStream \\\n",
    "  .format(\"kafka\") \\\n",
    "  .option(\"kafka.bootstrap.servers\", \"node1:9092\") \\\n",
    "  .option(\"subscribe\", TOPIC) \\\n",
    "  .option(\"startingOffsets\",STARTING_OFFSETS) \\\n",
    "  .option(\"failOnDataLoss\", \"false\")\\\n",
    "  .option(\"checkpointLocation\", \"/tmp/b6\") \\\n",
    "  .load() "
   ]
  },
  {
   "cell_type": "code",
   "execution_count": 5,
   "metadata": {},
   "outputs": [
    {
     "name": "stdout",
     "output_type": "stream",
     "text": [
      "root\n",
      " |-- key: binary (nullable = true)\n",
      " |-- value: binary (nullable = true)\n",
      " |-- topic: string (nullable = true)\n",
      " |-- partition: integer (nullable = true)\n",
      " |-- offset: long (nullable = true)\n",
      " |-- timestamp: timestamp (nullable = true)\n",
      " |-- timestampType: integer (nullable = true)\n",
      "\n"
     ]
    }
   ],
   "source": [
    "# Checking if everything works by printing the schema of the data\n",
    "df.printSchema()"
   ]
  },
  {
   "cell_type": "code",
   "execution_count": 6,
   "metadata": {},
   "outputs": [],
   "source": [
    "from pyspark.sql.functions import get_json_object, concat, lit, desc, window\n",
    "from pyspark.sql.types import *\n",
    "from pyspark.sql import functions as f\n",
    "\n",
    "# Since our data is in CSV format, we get each variable by spliting our message by ','\n",
    "split_col = f.split(df['value'], ',')\n",
    "\n",
    "# Adding new columns to our data frame\n",
    "df = df \\\n",
    "         .withColumn('UUID', split_col.getItem(0)) \\\n",
    "         .withColumn('artist', split_col.getItem(1))\n",
    "\n",
    "# Converting our dataframe to values in correct types\n",
    "converted = df \\\n",
    "    .selectExpr(\"UUID\", \"artist\", \"timestamp\")\\\n",
    "    .select([\\\n",
    "            df[\"UUID\"].cast(StringType()), \\\n",
    "            df[\"artist\"].cast(StringType()).alias(\"Artist\"), \\\n",
    "            df[\"timestamp\"].cast(TimestampType()) \\\n",
    "            ])"
   ]
  },
  {
   "cell_type": "code",
   "execution_count": 7,
   "metadata": {},
   "outputs": [],
   "source": [
    "window_duration = \"60 seconds\"\n",
    "watermark_duration = \"30 seconds\"\n",
    "\n",
    "groupdf = converted \\\n",
    "    .select(\"UUID\", \"artist\", \"timestamp\") \\\n",
    "    .withWatermark(\"timestamp\", watermark_duration) \\\n",
    "    .groupby(window(\"timestamp\", window_duration), \"Artist\") \\\n",
    "    .count().alias(\"count_result\") \\\n",
    "    .sort(desc(\"window\"), desc(\"count\")) \\\n",
    "    .limit(10)"
   ]
  },
  {
   "cell_type": "code",
   "execution_count": 8,
   "metadata": {},
   "outputs": [],
   "source": [
    "%matplotlib inline\n",
    "from pyspark.sql import SparkSession\n",
    "from IPython import display\n",
    "import matplotlib.pyplot as plt\n",
    "\n",
    "# Defining the function that will be used for representing our data in real time (incrementaly)\n",
    "def show_plot_and_df(epoch_frame, epoch_id):\n",
    "    if (epoch_frame.count()==0):\n",
    "        print(\"Waiting for new messages...\")\n",
    "        return\n",
    "    # Printing plot with approprate labels\n",
    "    epoch_frame.toPandas().plot(kind='bar', x='Artist', y='count')\n",
    "    display.clear_output(wait=True)\n",
    "    plt.title(\"Number of Spotify Songs for a given Artist\")\n",
    "    plt.ylabel(\"Number of Songs\")\n",
    "    plt.xlabel(\"Artist\")\n",
    "    plt.show()\n",
    "    # Printing dataframe\n",
    "    epoch_frame.show()\n",
    "    # Printing current iteration\n",
    "    print(\"Current Epoch: \" + str(epoch_id))\n",
    "    \n"
   ]
  },
  {
   "cell_type": "code",
   "execution_count": null,
   "metadata": {},
   "outputs": [
    {
     "data": {
      "image/png": "[encoded data removed]",
      "text/plain": [
       "<Figure size 432x288 with 1 Axes>"
      ]
     },
     "metadata": {
      "needs_background": "light"
     },
     "output_type": "display_data"
    },
    {
     "name": "stdout",
     "output_type": "stream",
     "text": [
      "+--------------------+--------------------+-----+\n",
      "|              window|              Artist|count|\n",
      "+--------------------+--------------------+-----+\n",
      "|[2020-12-29 20:47...|Johann Sebastian ...|    3|\n",
      "|[2020-12-29 20:47...|   Эрих Мария Ремарк|    2|\n",
      "|[2020-12-29 20:47...|       Joe Henderson|    2|\n",
      "|[2020-12-29 20:47...|Ludwig van Beethoven|    2|\n",
      "|[2020-12-29 20:47...|         Unspecified|    2|\n",
      "|[2020-12-29 20:47...|              Prince|    2|\n",
      "|[2020-12-29 20:47...|          Gene Autry|    1|\n",
      "|[2020-12-29 20:47...|     Thelonious Monk|    1|\n",
      "|[2020-12-29 20:47...|           Bob Dylan|    1|\n",
      "|[2020-12-29 20:47...|  The Lovin Spoonful|    1|\n",
      "+--------------------+--------------------+-----+\n",
      "\n",
      "Current Epoch: 16\n"
     ]
    }
   ],
   "source": [
    "# Defining some parammeters\n",
    "processingTime = \"5 Seconds\"\n",
    "outputMode = \"complete\"\n",
    "\n",
    "plt.rcParams['font.family'] = ['DejaVu Sans']\n",
    "plt.rcParams['font.sans-serif'] = ['SimHei'] # for Chinese font (https://github.com/matplotlib/matplotlib/issues/15062)\n",
    "\n",
    "# Finally, showing the data which updates every processingTime seconds\n",
    "df = groupdf \\\n",
    "    .writeStream \\\n",
    "    .outputMode(outputMode) \\\n",
    "    .foreachBatch(show_plot_and_df) \\\n",
    "    .trigger(processingTime=processingTime) \\\n",
    "    .start() \\\n",
    "    .awaitTermination()"
   ]
  },
  {
   "cell_type": "code",
   "execution_count": null,
   "metadata": {},
   "outputs": [],
   "source": [
    "# After finish we can stop spark session\n",
    "spark.stop()"
   ]
  },
  {
   "cell_type": "code",
   "execution_count": null,
   "metadata": {},
   "outputs": [],
   "source": []
  }
 ],
 "metadata": {
  "kernelspec": {
   "display_name": "Python 3",
   "language": "python",
   "name": "python3"
  },
  "language_info": {
   "codemirror_mode": {
    "name": "ipython",
    "version": 3
   },
   "file_extension": ".py",
   "mimetype": "text/x-python",
   "name": "python",
   "nbconvert_exporter": "python",
   "pygments_lexer": "ipython3",
   "version": "3.8.6"
  }
 },
 "nbformat": 4,
 "nbformat_minor": 4
}
